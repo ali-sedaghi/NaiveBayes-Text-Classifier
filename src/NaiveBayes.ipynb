{
 "cells": [
  {
   "cell_type": "markdown",
   "source": [
    "## 0. Imports"
   ],
   "metadata": {
    "id": "Hq8ISx67fMmy",
    "pycharm": {
     "name": "#%% md\n"
    }
   }
  },
  {
   "cell_type": "code",
   "source": [
    "import nltk\n",
    "import collections\n",
    "import numpy as np\n",
    "from keras.datasets import imdb\n",
    "from nltk.util import ngrams"
   ],
   "metadata": {
    "id": "d6PvZAlLfQuR",
    "pycharm": {
     "name": "#%%\n"
    }
   },
   "execution_count": 1,
   "outputs": []
  },
  {
   "cell_type": "markdown",
   "metadata": {
    "id": "iAnj55oxdpiQ",
    "pycharm": {
     "name": "#%% md\n"
    }
   },
   "source": [
    "## 1. IMDB Dataset"
   ]
  },
  {
   "cell_type": "code",
   "execution_count": 2,
   "metadata": {
    "id": "ElC24F9DdRxq",
    "pycharm": {
     "name": "#%%\n"
    }
   },
   "outputs": [
    {
     "name": "stdout",
     "output_type": "stream",
     "text": [
      "Downloading data from https://storage.googleapis.com/tensorflow/tf-keras-datasets/imdb.npz\n",
      "17464789/17464789 [==============================] - 74s 4us/step\n"
     ]
    }
   ],
   "source": [
    "(x_train, y_train), (x_test, y_test) = imdb.load_data()"
   ]
  },
  {
   "cell_type": "markdown",
   "metadata": {
    "id": "mpXc193Vd30r",
    "pycharm": {
     "name": "#%% md\n"
    }
   },
   "source": [
    "## 2. Pre-Processing"
   ]
  },
  {
   "cell_type": "markdown",
   "source": [
    "### 2.0. Index to word and vice versa"
   ],
   "metadata": {
    "id": "-tFwnv7_mUZp",
    "pycharm": {
     "name": "#%% md\n"
    }
   }
  },
  {
   "cell_type": "code",
   "source": [
    "word_index = imdb.get_word_index()\n",
    "index_word = {i: word for word, i in word_index.items()}"
   ],
   "metadata": {
    "id": "MVVXJtXGmTsV",
    "pycharm": {
     "name": "#%%\n"
    }
   },
   "execution_count": 3,
   "outputs": [
    {
     "name": "stdout",
     "output_type": "stream",
     "text": [
      "Downloading data from https://storage.googleapis.com/tensorflow/tf-keras-datasets/imdb_word_index.json\n",
      "1641221/1641221 [==============================] - 6s 4us/step\n"
     ]
    }
   ]
  },
  {
   "cell_type": "code",
   "source": [
    "def mapper(sources, map_dict):\n",
    "    destinations = []\n",
    "    for source in sources:\n",
    "        destination = [map_dict.get(element) for element in source]\n",
    "        destinations.append([d for d in destination if d is not None])\n",
    "    return np.array(destinations, dtype=object)"
   ],
   "metadata": {
    "id": "JVA5hfBDmhaH",
    "pycharm": {
     "name": "#%%\n"
    }
   },
   "execution_count": 4,
   "outputs": []
  },
  {
   "cell_type": "code",
   "source": [
    "x_train_words = mapper(x_train, index_word)\n",
    "x_train_indexes = mapper(x_train_words, word_index)\n",
    "\n",
    "x_test_words = mapper(x_test, index_word)\n",
    "x_test_indexes = mapper(x_test_words, word_index)"
   ],
   "metadata": {
    "id": "G4Svq8AnmiiH",
    "pycharm": {
     "name": "#%%\n"
    }
   },
   "execution_count": 5,
   "outputs": []
  },
  {
   "cell_type": "code",
   "source": [
    "print(x_train[0])\n",
    "print(x_train_words[0])\n",
    "print(x_train_indexes[0])"
   ],
   "metadata": {
    "colab": {
     "base_uri": "https://localhost:8080/"
    },
    "id": "PYJgiGDNoLQy",
    "outputId": "87291b5d-fb4f-4a81-d97a-a1bcf9c4469e",
    "pycharm": {
     "name": "#%%\n"
    }
   },
   "execution_count": 6,
   "outputs": [
    {
     "name": "stdout",
     "output_type": "stream",
     "text": [
      "[1, 14, 22, 16, 43, 530, 973, 1622, 1385, 65, 458, 4468, 66, 3941, 4, 173, 36, 256, 5, 25, 100, 43, 838, 112, 50, 670, 22665, 9, 35, 480, 284, 5, 150, 4, 172, 112, 167, 21631, 336, 385, 39, 4, 172, 4536, 1111, 17, 546, 38, 13, 447, 4, 192, 50, 16, 6, 147, 2025, 19, 14, 22, 4, 1920, 4613, 469, 4, 22, 71, 87, 12, 16, 43, 530, 38, 76, 15, 13, 1247, 4, 22, 17, 515, 17, 12, 16, 626, 18, 19193, 5, 62, 386, 12, 8, 316, 8, 106, 5, 4, 2223, 5244, 16, 480, 66, 3785, 33, 4, 130, 12, 16, 38, 619, 5, 25, 124, 51, 36, 135, 48, 25, 1415, 33, 6, 22, 12, 215, 28, 77, 52, 5, 14, 407, 16, 82, 10311, 8, 4, 107, 117, 5952, 15, 256, 4, 31050, 7, 3766, 5, 723, 36, 71, 43, 530, 476, 26, 400, 317, 46, 7, 4, 12118, 1029, 13, 104, 88, 4, 381, 15, 297, 98, 32, 2071, 56, 26, 141, 6, 194, 7486, 18, 4, 226, 22, 21, 134, 476, 26, 480, 5, 144, 30, 5535, 18, 51, 36, 28, 224, 92, 25, 104, 4, 226, 65, 16, 38, 1334, 88, 12, 16, 283, 5, 16, 4472, 113, 103, 32, 15, 16, 5345, 19, 178, 32]\n",
      "['the', 'as', 'you', 'with', 'out', 'themselves', 'powerful', 'lets', 'loves', 'their', 'becomes', 'reaching', 'had', 'journalist', 'of', 'lot', 'from', 'anyone', 'to', 'have', 'after', 'out', 'atmosphere', 'never', 'more', 'room', 'titillate', 'it', 'so', 'heart', 'shows', 'to', 'years', 'of', 'every', 'never', 'going', 'villaronga', 'help', 'moments', 'or', 'of', 'every', 'chest', 'visual', 'movie', 'except', 'her', 'was', 'several', 'of', 'enough', 'more', 'with', 'is', 'now', 'current', 'film', 'as', 'you', 'of', 'mine', 'potentially', 'unfortunately', 'of', 'you', 'than', 'him', 'that', 'with', 'out', 'themselves', 'her', 'get', 'for', 'was', 'camp', 'of', 'you', 'movie', 'sometimes', 'movie', 'that', 'with', 'scary', 'but', 'pratfalls', 'to', 'story', 'wonderful', 'that', 'in', 'seeing', 'in', 'character', 'to', 'of', '70s', 'musicians', 'with', 'heart', 'had', 'shadows', 'they', 'of', 'here', 'that', 'with', 'her', 'serious', 'to', 'have', 'does', 'when', 'from', 'why', 'what', 'have', 'critics', 'they', 'is', 'you', 'that', \"isn't\", 'one', 'will', 'very', 'to', 'as', 'itself', 'with', 'other', 'tricky', 'in', 'of', 'seen', 'over', 'landed', 'for', 'anyone', 'of', \"gilmore's\", 'br', \"show's\", 'to', 'whether', 'from', 'than', 'out', 'themselves', 'history', 'he', 'name', 'half', 'some', 'br', 'of', \"'n\", 'odd', 'was', 'two', 'most', 'of', 'mean', 'for', '1', 'any', 'an', 'boat', 'she', 'he', 'should', 'is', 'thought', 'frog', 'but', 'of', 'script', 'you', 'not', 'while', 'history', 'he', 'heart', 'to', 'real', 'at', 'barrel', 'but', 'when', 'from', 'one', 'bit', 'then', 'have', 'two', 'of', 'script', 'their', 'with', 'her', 'nobody', 'most', 'that', 'with', \"wasn't\", 'to', 'with', 'armed', 'acting', 'watch', 'an', 'for', 'with', 'heartfelt', 'film', 'want', 'an']\n",
      "[1, 14, 22, 16, 43, 530, 973, 1622, 1385, 65, 458, 4468, 66, 3941, 4, 173, 36, 256, 5, 25, 100, 43, 838, 112, 50, 670, 22665, 9, 35, 480, 284, 5, 150, 4, 172, 112, 167, 21631, 336, 385, 39, 4, 172, 4536, 1111, 17, 546, 38, 13, 447, 4, 192, 50, 16, 6, 147, 2025, 19, 14, 22, 4, 1920, 4613, 469, 4, 22, 71, 87, 12, 16, 43, 530, 38, 76, 15, 13, 1247, 4, 22, 17, 515, 17, 12, 16, 626, 18, 19193, 5, 62, 386, 12, 8, 316, 8, 106, 5, 4, 2223, 5244, 16, 480, 66, 3785, 33, 4, 130, 12, 16, 38, 619, 5, 25, 124, 51, 36, 135, 48, 25, 1415, 33, 6, 22, 12, 215, 28, 77, 52, 5, 14, 407, 16, 82, 10311, 8, 4, 107, 117, 5952, 15, 256, 4, 31050, 7, 3766, 5, 723, 36, 71, 43, 530, 476, 26, 400, 317, 46, 7, 4, 12118, 1029, 13, 104, 88, 4, 381, 15, 297, 98, 32, 2071, 56, 26, 141, 6, 194, 7486, 18, 4, 226, 22, 21, 134, 476, 26, 480, 5, 144, 30, 5535, 18, 51, 36, 28, 224, 92, 25, 104, 4, 226, 65, 16, 38, 1334, 88, 12, 16, 283, 5, 16, 4472, 113, 103, 32, 15, 16, 5345, 19, 178, 32]\n"
     ]
    }
   ]
  },
  {
   "cell_type": "markdown",
   "metadata": {
    "id": "2tXfDtZQhINU",
    "pycharm": {
     "name": "#%% md\n"
    }
   },
   "source": [
    "### 2.1. Any data cleaning"
   ]
  },
  {
   "cell_type": "code",
   "source": [
    "nltk.download('stopwords')\n",
    "stop_words = set(nltk.corpus.stopwords.words('english'))"
   ],
   "metadata": {
    "colab": {
     "base_uri": "https://localhost:8080/"
    },
    "id": "eVV7c-CLqtmd",
    "outputId": "087aed0f-6d6a-44ec-ecdf-804c841ff3b7",
    "pycharm": {
     "name": "#%%\n"
    }
   },
   "execution_count": 7,
   "outputs": [
    {
     "name": "stderr",
     "output_type": "stream",
     "text": [
      "[nltk_data] Downloading package stopwords to\n",
      "[nltk_data]     C:\\Users\\alise\\AppData\\Roaming\\nltk_data...\n",
      "[nltk_data]   Unzipping corpora\\stopwords.zip.\n"
     ]
    }
   ]
  },
  {
   "cell_type": "code",
   "source": [
    "def cleaner(sentences, stop_words):\n",
    "    new_sentences = []\n",
    "    for sentence in sentences:\n",
    "        new_sentence = [word for word in sentence if word not in stop_words and len(word) > 2]\n",
    "        new_sentences.append(new_sentence)\n",
    "    return new_sentences"
   ],
   "metadata": {
    "id": "eqLXnSpYfwlc",
    "pycharm": {
     "name": "#%%\n"
    }
   },
   "execution_count": 8,
   "outputs": []
  },
  {
   "cell_type": "code",
   "execution_count": 9,
   "metadata": {
    "id": "jL5KqGCQhHZy",
    "pycharm": {
     "name": "#%%\n"
    }
   },
   "outputs": [],
   "source": [
    "x_train_words_cleaned = cleaner(x_train_words, stop_words)\n",
    "x_train_indexes_cleaned = mapper(x_train_words_cleaned, word_index)\n",
    "\n",
    "x_test_words_cleaned = cleaner(x_test_words, stop_words)\n",
    "x_test_indexes_cleaned = mapper(x_test_words_cleaned, word_index)"
   ]
  },
  {
   "cell_type": "code",
   "source": [
    "print(x_train_words[0])\n",
    "print(x_train[0])\n",
    "print(x_train_indexes_cleaned[0])\n",
    "print(x_train_words_cleaned[0])"
   ],
   "metadata": {
    "colab": {
     "base_uri": "https://localhost:8080/"
    },
    "id": "5bbrAxFRsVNA",
    "outputId": "cf232a07-f904-4699-9ea8-f34c1549bdb2",
    "pycharm": {
     "name": "#%%\n"
    }
   },
   "execution_count": 10,
   "outputs": [
    {
     "name": "stdout",
     "output_type": "stream",
     "text": [
      "['the', 'as', 'you', 'with', 'out', 'themselves', 'powerful', 'lets', 'loves', 'their', 'becomes', 'reaching', 'had', 'journalist', 'of', 'lot', 'from', 'anyone', 'to', 'have', 'after', 'out', 'atmosphere', 'never', 'more', 'room', 'titillate', 'it', 'so', 'heart', 'shows', 'to', 'years', 'of', 'every', 'never', 'going', 'villaronga', 'help', 'moments', 'or', 'of', 'every', 'chest', 'visual', 'movie', 'except', 'her', 'was', 'several', 'of', 'enough', 'more', 'with', 'is', 'now', 'current', 'film', 'as', 'you', 'of', 'mine', 'potentially', 'unfortunately', 'of', 'you', 'than', 'him', 'that', 'with', 'out', 'themselves', 'her', 'get', 'for', 'was', 'camp', 'of', 'you', 'movie', 'sometimes', 'movie', 'that', 'with', 'scary', 'but', 'pratfalls', 'to', 'story', 'wonderful', 'that', 'in', 'seeing', 'in', 'character', 'to', 'of', '70s', 'musicians', 'with', 'heart', 'had', 'shadows', 'they', 'of', 'here', 'that', 'with', 'her', 'serious', 'to', 'have', 'does', 'when', 'from', 'why', 'what', 'have', 'critics', 'they', 'is', 'you', 'that', \"isn't\", 'one', 'will', 'very', 'to', 'as', 'itself', 'with', 'other', 'tricky', 'in', 'of', 'seen', 'over', 'landed', 'for', 'anyone', 'of', \"gilmore's\", 'br', \"show's\", 'to', 'whether', 'from', 'than', 'out', 'themselves', 'history', 'he', 'name', 'half', 'some', 'br', 'of', \"'n\", 'odd', 'was', 'two', 'most', 'of', 'mean', 'for', '1', 'any', 'an', 'boat', 'she', 'he', 'should', 'is', 'thought', 'frog', 'but', 'of', 'script', 'you', 'not', 'while', 'history', 'he', 'heart', 'to', 'real', 'at', 'barrel', 'but', 'when', 'from', 'one', 'bit', 'then', 'have', 'two', 'of', 'script', 'their', 'with', 'her', 'nobody', 'most', 'that', 'with', \"wasn't\", 'to', 'with', 'armed', 'acting', 'watch', 'an', 'for', 'with', 'heartfelt', 'film', 'want', 'an']\n",
      "[1, 14, 22, 16, 43, 530, 973, 1622, 1385, 65, 458, 4468, 66, 3941, 4, 173, 36, 256, 5, 25, 100, 43, 838, 112, 50, 670, 22665, 9, 35, 480, 284, 5, 150, 4, 172, 112, 167, 21631, 336, 385, 39, 4, 172, 4536, 1111, 17, 546, 38, 13, 447, 4, 192, 50, 16, 6, 147, 2025, 19, 14, 22, 4, 1920, 4613, 469, 4, 22, 71, 87, 12, 16, 43, 530, 38, 76, 15, 13, 1247, 4, 22, 17, 515, 17, 12, 16, 626, 18, 19193, 5, 62, 386, 12, 8, 316, 8, 106, 5, 4, 2223, 5244, 16, 480, 66, 3785, 33, 4, 130, 12, 16, 38, 619, 5, 25, 124, 51, 36, 135, 48, 25, 1415, 33, 6, 22, 12, 215, 28, 77, 52, 5, 14, 407, 16, 82, 10311, 8, 4, 107, 117, 5952, 15, 256, 4, 31050, 7, 3766, 5, 723, 36, 71, 43, 530, 476, 26, 400, 317, 46, 7, 4, 12118, 1029, 13, 104, 88, 4, 381, 15, 297, 98, 32, 2071, 56, 26, 141, 6, 194, 7486, 18, 4, 226, 22, 21, 134, 476, 26, 480, 5, 144, 30, 5535, 18, 51, 36, 28, 224, 92, 25, 104, 4, 226, 65, 16, 38, 1334, 88, 12, 16, 283, 5, 16, 4472, 113, 103, 32, 15, 16, 5345, 19, 178, 32]\n",
      "[973, 1622, 1385, 458, 4468, 3941, 173, 256, 838, 112, 670, 22665, 480, 284, 150, 172, 112, 167, 21631, 336, 385, 172, 4536, 1111, 17, 546, 447, 192, 2025, 19, 1920, 4613, 469, 76, 1247, 17, 515, 17, 626, 19193, 62, 386, 316, 106, 2223, 5244, 480, 3785, 619, 1415, 28, 10311, 107, 5952, 256, 31050, 3766, 723, 476, 400, 317, 1029, 104, 381, 2071, 194, 7486, 226, 476, 480, 144, 5535, 28, 224, 104, 226, 1334, 4472, 113, 103, 5345, 19, 178]\n",
      "['powerful', 'lets', 'loves', 'becomes', 'reaching', 'journalist', 'lot', 'anyone', 'atmosphere', 'never', 'room', 'titillate', 'heart', 'shows', 'years', 'every', 'never', 'going', 'villaronga', 'help', 'moments', 'every', 'chest', 'visual', 'movie', 'except', 'several', 'enough', 'current', 'film', 'mine', 'potentially', 'unfortunately', 'get', 'camp', 'movie', 'sometimes', 'movie', 'scary', 'pratfalls', 'story', 'wonderful', 'seeing', 'character', '70s', 'musicians', 'heart', 'shadows', 'serious', 'critics', 'one', 'tricky', 'seen', 'landed', 'anyone', \"gilmore's\", \"show's\", 'whether', 'history', 'name', 'half', 'odd', 'two', 'mean', 'boat', 'thought', 'frog', 'script', 'history', 'heart', 'real', 'barrel', 'one', 'bit', 'two', 'script', 'nobody', 'armed', 'acting', 'watch', 'heartfelt', 'film', 'want']\n"
     ]
    }
   ]
  },
  {
   "cell_type": "markdown",
   "metadata": {
    "id": "imQqe33JeZqS",
    "pycharm": {
     "name": "#%% md\n"
    }
   },
   "source": [
    "## 3. Build Models"
   ]
  },
  {
   "cell_type": "code",
   "source": [
    "def get_vocab_size(x, y):\n",
    "    x_dict = {0: [], 1: []}\n",
    "    for i, sample in enumerate(x):\n",
    "        class_idx = y[i]\n",
    "        x_dict[class_idx] += sample\n",
    "\n",
    "    p_vocab_size = len(collections.Counter(x_dict[1]))\n",
    "    n_vocab_size = len(collections.Counter(x_dict[0]))\n",
    "\n",
    "    return n_vocab_size, p_vocab_size"
   ],
   "metadata": {
    "id": "5e2d-PX17WwH",
    "pycharm": {
     "name": "#%%\n"
    }
   },
   "execution_count": 11,
   "outputs": []
  },
  {
   "cell_type": "code",
   "source": [
    "def build_ngrams(x, y, n):\n",
    "    ngrams_dict = {0: [], 1: []}\n",
    "\n",
    "    for i, sample in enumerate(x):\n",
    "        class_idx = y[i]\n",
    "        sample_ngrams = ngrams(sample, n)\n",
    "        ngrams_dict[class_idx].extend(sample_ngrams)\n",
    "\n",
    "    p_ngrams_freq = collections.Counter(ngrams_dict[1])\n",
    "    n_ngrams_freq = collections.Counter(ngrams_dict[0])\n",
    "\n",
    "    return n_ngrams_freq, p_ngrams_freq"
   ],
   "metadata": {
    "id": "hijzZtxPv4WF",
    "pycharm": {
     "name": "#%%\n"
    }
   },
   "execution_count": 12,
   "outputs": []
  },
  {
   "cell_type": "code",
   "source": [
    "def get_model(freqs, vocab_size, before_freqs=None):\n",
    "    denominator = sum(freqs.values())\n",
    "    model = dict()\n",
    "    for gram, freq in freqs.items():\n",
    "        if before_freqs is not None:\n",
    "            denominator = before_freqs[gram[:-1]]\n",
    "        value = (freq + 1) / (denominator + vocab_size)\n",
    "        model[gram] = value\n",
    "    return model"
   ],
   "metadata": {
    "id": "SKSHxtLiLKf5",
    "pycharm": {
     "name": "#%%\n"
    }
   },
   "execution_count": 13,
   "outputs": []
  },
  {
   "cell_type": "code",
   "source": [
    "vocab_size = get_vocab_size(\n",
    "    x_train_indexes_cleaned,\n",
    "    y_train\n",
    ")"
   ],
   "metadata": {
    "id": "tP9ChLyqCB1Z",
    "pycharm": {
     "name": "#%%\n"
    }
   },
   "execution_count": 14,
   "outputs": []
  },
  {
   "cell_type": "code",
   "source": [
    "print(vocab_size[0])\n",
    "print(vocab_size[1])"
   ],
   "metadata": {
    "colab": {
     "base_uri": "https://localhost:8080/"
    },
    "id": "V43eT6i1CPca",
    "outputId": "edb1afb3-c564-48ae-e285-a3913823b08c",
    "pycharm": {
     "name": "#%%\n"
    }
   },
   "execution_count": 15,
   "outputs": [
    {
     "name": "stdout",
     "output_type": "stream",
     "text": [
      "61337\n",
      "63648\n"
     ]
    }
   ]
  },
  {
   "cell_type": "markdown",
   "metadata": {
    "id": "opNqhDhai4oJ",
    "pycharm": {
     "name": "#%% md\n"
    }
   },
   "source": [
    "### 3.1. Uni-Gram"
   ]
  },
  {
   "cell_type": "code",
   "execution_count": 16,
   "metadata": {
    "id": "2LltG5vQjGJv",
    "pycharm": {
     "name": "#%%\n"
    }
   },
   "outputs": [],
   "source": [
    "n = 1\n",
    "unigram_freqs = build_ngrams(\n",
    "    x_train_indexes_cleaned,\n",
    "    y_train,\n",
    "    n\n",
    ")"
   ]
  },
  {
   "cell_type": "code",
   "source": [
    "unigram_model = {\n",
    "    0: get_model(unigram_freqs[0], vocab_size[0]),\n",
    "    1: get_model(unigram_freqs[1], vocab_size[1])\n",
    "}"
   ],
   "metadata": {
    "id": "wFWnBQgfM9Dt",
    "pycharm": {
     "name": "#%%\n"
    }
   },
   "execution_count": 17,
   "outputs": []
  },
  {
   "cell_type": "markdown",
   "metadata": {
    "id": "0I1UwalSjA63",
    "pycharm": {
     "name": "#%% md\n"
    }
   },
   "source": [
    "### 3.2. Bi-Gram\n"
   ]
  },
  {
   "cell_type": "code",
   "source": [
    "n = 2\n",
    "bigram_freqs = build_ngrams(\n",
    "    x_train_indexes_cleaned,\n",
    "    y_train,\n",
    "    n\n",
    ")"
   ],
   "metadata": {
    "id": "gxNQ5hSJJDTE",
    "pycharm": {
     "name": "#%%\n"
    }
   },
   "execution_count": 18,
   "outputs": []
  },
  {
   "cell_type": "code",
   "source": [
    "bigram_model = {\n",
    "    0: get_model(bigram_freqs[0], vocab_size[0], unigram_freqs[0]),\n",
    "    1: get_model(bigram_freqs[1], vocab_size[1], unigram_freqs[1])\n",
    "}"
   ],
   "metadata": {
    "id": "HLg0r3nnJE3h",
    "pycharm": {
     "name": "#%%\n"
    }
   },
   "execution_count": 19,
   "outputs": []
  },
  {
   "cell_type": "markdown",
   "metadata": {
    "id": "gCICu7qpjI9z",
    "pycharm": {
     "name": "#%% md\n"
    }
   },
   "source": [
    "### 3.3. Tri-Gram"
   ]
  },
  {
   "cell_type": "code",
   "execution_count": 20,
   "metadata": {
    "id": "t70q9YLTjIWD",
    "pycharm": {
     "name": "#%%\n"
    }
   },
   "outputs": [],
   "source": [
    "n = 3\n",
    "trigram_freqs = build_ngrams(\n",
    "    x_train_indexes_cleaned,\n",
    "    y_train,\n",
    "    n\n",
    ")"
   ]
  },
  {
   "cell_type": "code",
   "source": [
    "trigram_model = {\n",
    "    0: get_model(trigram_freqs[0], vocab_size[0], bigram_freqs[0]),\n",
    "    1: get_model(trigram_freqs[1], vocab_size[1], bigram_freqs[1])\n",
    "}"
   ],
   "metadata": {
    "id": "pbtnywoxO6BH",
    "pycharm": {
     "name": "#%%\n"
    }
   },
   "execution_count": 21,
   "outputs": []
  },
  {
   "cell_type": "markdown",
   "metadata": {
    "id": "kJj1mXJJd7eR",
    "pycharm": {
     "name": "#%% md\n"
    }
   },
   "source": [
    "## 4. Evaluate Model"
   ]
  },
  {
   "cell_type": "code",
   "source": [
    "pos_count = np.count_nonzero(y_test)\n",
    "neg_count = y_test.shape[0] - pos_count\n",
    "neg_class_prob = neg_count / y_test.shape[0]\n",
    "\n",
    "print(neg_class_prob)"
   ],
   "metadata": {
    "colab": {
     "base_uri": "https://localhost:8080/"
    },
    "id": "Sw8CZAOhllkl",
    "outputId": "e99dfe60-e2d8-447e-bfe4-5b5eb7154ab4",
    "pycharm": {
     "name": "#%%\n"
    }
   },
   "execution_count": 22,
   "outputs": [
    {
     "name": "stdout",
     "output_type": "stream",
     "text": [
      "0.5\n"
     ]
    }
   ]
  },
  {
   "cell_type": "code",
   "execution_count": 23,
   "metadata": {
    "id": "KcfxW01ceY_R",
    "pycharm": {
     "name": "#%%\n"
    }
   },
   "outputs": [],
   "source": [
    "def nb_predict(x_test, n, model, neg_class_prob, unk_factor, vocab_size):\n",
    "    preds = []\n",
    "    \n",
    "    for sample in x_test:\n",
    "        neg_prob = np.log(neg_class_prob)\n",
    "        pos_prob = np.log(1 - neg_class_prob)\n",
    "\n",
    "        ngrams_list = ngrams(sample, n)\n",
    "        for gram in ngrams_list:\n",
    "            gram_neg_prob = model[0].get(gram)\n",
    "            gram_pos_prob = model[1].get(gram)\n",
    "            \n",
    "            # <UNK>\n",
    "            if gram_neg_prob is None:\n",
    "                gram_neg_prob = 1 / (unk_factor[0] + vocab_size[0])\n",
    "            if gram_pos_prob is None:\n",
    "                gram_pos_prob = 1 / (unk_factor[1] + vocab_size[1])\n",
    "\n",
    "            gram_neg_prob = np.log(gram_neg_prob)\n",
    "            gram_pos_prob = np.log(gram_pos_prob)\n",
    "\n",
    "            neg_prob += gram_neg_prob\n",
    "            pos_prob += gram_pos_prob\n",
    "\n",
    "        if neg_prob > pos_prob:\n",
    "            preds.append(0)\n",
    "        else:\n",
    "            preds.append(1)\n",
    "    return np.array(preds)"
   ]
  },
  {
   "cell_type": "code",
   "source": [
    "def calculate_metrics(y_r, y_p):\n",
    "    tp = 0\n",
    "    tn = 0\n",
    "    fn = 0\n",
    "    fp = 0\n",
    "\n",
    "    for i in range(y_test.shape[0]):\n",
    "        if y_r[i] == 1:\n",
    "            if y_p[i] == 1:\n",
    "                tp += 1\n",
    "            elif y_p[i] == 0:\n",
    "                fn += 1\n",
    "        elif y_r[i] == 0:\n",
    "            if y_p[i] == 0:\n",
    "                tn += 1\n",
    "            elif y_p[i] == 1:\n",
    "                fp += 1\n",
    "\n",
    "    a = (tp + tn) / (tp + tn + fn + fp)\n",
    "    p = tp / (tp + fp)\n",
    "    r = tp / (tp + fn)\n",
    "    f1_score = (2 * p * r) / (p + r)\n",
    "\n",
    "    return {\n",
    "        'accuracy': a,\n",
    "        'precision': p,\n",
    "        'recall': r,\n",
    "        'f1_score': f1_score,\n",
    "    }"
   ],
   "metadata": {
    "id": "mOGdpni4i6DQ",
    "pycharm": {
     "name": "#%%\n"
    }
   },
   "execution_count": 24,
   "outputs": []
  },
  {
   "cell_type": "markdown",
   "source": [
    "### 4.1 Unigram"
   ],
   "metadata": {
    "id": "rOIk_6WVqQRs",
    "pycharm": {
     "name": "#%% md\n"
    }
   }
  },
  {
   "cell_type": "code",
   "source": [
    "# Unigram\n",
    "# With cleaning stop words\n",
    "\n",
    "n = 1\n",
    "model = unigram_model\n",
    "\n",
    "preds = nb_predict(\n",
    "    x_test_indexes_cleaned,\n",
    "    n,\n",
    "    model,\n",
    "    neg_class_prob,\n",
    "    vocab_size,\n",
    "    vocab_size\n",
    ")\n",
    "\n",
    "calculate_metrics(y_test, preds)"
   ],
   "metadata": {
    "colab": {
     "base_uri": "https://localhost:8080/"
    },
    "id": "FitJSwpBqpVO",
    "outputId": "0d55631f-071f-4233-a7ef-54b723b85817",
    "pycharm": {
     "name": "#%%\n"
    }
   },
   "execution_count": 25,
   "outputs": [
    {
     "data": {
      "text/plain": "{'accuracy': 0.813,\n 'precision': 0.861164958921813,\n 'recall': 0.74632,\n 'f1_score': 0.7996399948570694}"
     },
     "execution_count": 25,
     "metadata": {},
     "output_type": "execute_result"
    }
   ]
  },
  {
   "cell_type": "code",
   "source": [
    "for i in range(5):\n",
    "    print(' '.join([str(e) for e in x_test_words[i]]))\n",
    "    print(f\"Predicted class: {y_test[i]} \\t Real class: {preds[i]}\")\n",
    "    print()"
   ],
   "metadata": {
    "colab": {
     "base_uri": "https://localhost:8080/"
    },
    "id": "P8TWFfZftE3l",
    "outputId": "bf9513d6-7f72-435e-b27d-59052d09a9ea",
    "pycharm": {
     "name": "#%%\n"
    }
   },
   "execution_count": 26,
   "outputs": [
    {
     "name": "stdout",
     "output_type": "stream",
     "text": [
      "the wonder own as by is sequence i i jars roses to of hollywood br of down shouting getting boring of ever it sadly sadly sadly i i was then does don't close faint after one carry as by are be favourites all family turn in does as three part in another some to be probably with world uncaring her an have faint beginning own as is sequence\n",
      "Predicted class: 0 \t Real class: 0\n",
      "\n",
      "the as you world's is quite br mankind most that quest are chase to being quickly of little it time hell to plot br of something long put are of every place this consequence council of interplay storytelling being nasty not of you warren in is failed club i i of films pay so sequences mightily film okay uses to received wackiness if time done for room sugar viewer as cartoon of gives to forgettable br be because many these of reflection sugar contained gives it wreck scene to more was two when had find as you another it of themselves probably who interplay storytelling if itself by br about 1950's films not would effects that her box to miike for if hero close seek end is very together movie of wheel got say kong sugar fred close bore there is playing lot of scriptures pan place trilogy of lacks br of their time much this men as on it is telling program br silliness okay orientation to frustration at corner rawlins she of sequences to political clearly in of drugs keep guy i i was throwing room sugar as it by br be plot many for occasionally film verge boyfriend difficult kid as you it failed not if gerard to if woman in launching is police fi spooky or of self what have pretty in can so suit you good 2 which why super as it main of my i i  if time screenplay in same this remember assured have action one in realistic that better of lessons\n",
      "Predicted class: 1 \t Real class: 1\n",
      "\n",
      "the plot near ears recent halliburton cosmopolitan of him flicks frank br by excellent sans br of past loyalty near really all grief family four victim's to movie that obvious family brave movie is got say cosmopolitan with up comment this orks been of entertaining not be lamarr james in you seen vittorio castle's portrayed dirty in so washington ursula this you minutes no all station all after torments promising who aragorn horn noir' to contracted any by speed they is my as screams dirty in of full br pacino dignity need men of pitchfork popular really all way this behaviour this sturdy they is my no standard certainly near br an beach with this make imbecilic i i of fails ritt br of finished wear psycho cosmopolitan in learn in twice know by br be how rings epps with is seemed fails visually posthumous extremely movie scooping it's of ishtar like children is easily is thug br simply must well at although this family an br many not scene that it time seemed de ignored up they boat morning like well force of suggestion sent been history like story its disappointing same of club finch watching husband reviewer to although that around finch except to de impersonation br of you available but hours animals showing br of optimism than dead white splatter waiting film tenants to attentions this documentary in 3 eduardo of accents committee br of ann i i comes 9 it place this is overseas of scooping spradlin know of mode he bonus film were central to one oh is excellent cindy in can when from well people in characters' chief from leaving in mattia landers but is easily of lamas he historian speak this as today paul that against one will actual in could her plot bias error few grade marc go landers but be lot it oliver movie is dis picture tuning feel this of ensue like different just clichéd girl at finds is sweets no landers glory any is children's just moment like mixing any of ishtar leaving for as it even cliche to purchased is money easily egypt landers glory any is indiscernible i i liam film as digress set actually easily like outdated sequel any of ishtar ryan made film is jaayen br nook constant unit of 90s letting deep in act made of road in of spradlin movie convictions rural vhs of share in reaching fact of indiscernible polly spinal of 90s to them book are is unfamiliar mercy karen's mode they funniest is white courage fiver vegas wooden br of gender traditionally unfortunately of 1968 no of years hokey ishtar true up mattia landers but 3 all ordinary be oblivious to auer were deserve film clone prairie of creative br comes their kung who is assuming bias out new all it incomprehensible it episode much that's including i i cartoon of my certain no as rooting over you with way to cartoon of enough for that with way who is finished mornings they of rukh br for cupboard expressing stunts black that story at actual in can as movie is strands has though songs cosmopolitan action it's action his one me joshua's grass this second no all way scooping not lee warhol be moves br figure of you boss movie is snatched 9 br propaganda resumed scooping after at of smoke splendid snow saturday it's results this of load it's think class br think cop for games make southern things to it jolly who gladys if is boyfriend you which is tony by this make residents too not make above it even background\n",
      "Predicted class: 1 \t Real class: 1\n",
      "\n",
      "the was stick did as roles br on take as my was although except torture in perspective of goes he's was big people for was into out improved has that as with boy weapon of seems for ago film of performances production he time relationship not of grade great he jean misses was rather is boat say around thought to was well constructed except much take was story his people star of blood of over fun end this as on other of killer this as on it deborah film about history in of come br tested was saying was three her length has about to about unusual most was story one let's town of genre when is seriously would with long only king's to future deep i'm dvd have can about people friends of here other it especially fan often somewhere br doesn't characters for he means her seemed states by well potential can when it never means movie so night bad he seducing daughter film of unusual are of goes her them such of number big bad one left bloody\n",
      "Predicted class: 0 \t Real class: 0\n",
      "\n",
      "the just good because great cold watching is minute each shirley completely to was several as b i i as b gave compared rest not includes we if main that movie sometimes movie have sex man endearing of feet he played to faris from into pot have dissection man second hand in integrate watching his offering as b it other rudimentary to it taste bit i i in perfect as slowly truth was one in perfect only deliver sleazy has thrown not wonder classic as b satisfied at main that i i their among among without didn't later if for very pian didn't clearly aa didn't forget didn't\n",
      "Predicted class: 1 \t Real class: 0\n",
      "\n"
     ]
    }
   ]
  },
  {
   "cell_type": "markdown",
   "source": [
    "### 4.2 Bigram"
   ],
   "metadata": {
    "id": "sXolmSqLqTt-",
    "pycharm": {
     "name": "#%% md\n"
    }
   }
  },
  {
   "cell_type": "code",
   "source": [
    "# Bigram\n",
    "# With cleaning stop words\n",
    "\n",
    "n = 2\n",
    "model = bigram_model\n",
    "\n",
    "preds = nb_predict(\n",
    "    x_test_indexes_cleaned,\n",
    "    n,\n",
    "    model,\n",
    "    neg_class_prob,\n",
    "    vocab_size,\n",
    "    vocab_size\n",
    ")\n",
    "\n",
    "calculate_metrics(y_test, preds)"
   ],
   "metadata": {
    "colab": {
     "base_uri": "https://localhost:8080/"
    },
    "id": "CMtN486qqm_-",
    "outputId": "4617d6d5-7576-4aee-c65d-6577cae418b3",
    "pycharm": {
     "name": "#%%\n"
    }
   },
   "execution_count": 27,
   "outputs": [
    {
     "data": {
      "text/plain": "{'accuracy': 0.80428,\n 'precision': 0.8911858479893037,\n 'recall': 0.6932,\n 'f1_score': 0.7798227062052828}"
     },
     "execution_count": 27,
     "metadata": {},
     "output_type": "execute_result"
    }
   ]
  },
  {
   "cell_type": "code",
   "source": [
    "for i in range(5):\n",
    "    print(' '.join([str(e) for e in x_test_words[i]]))\n",
    "    print(f\"Predicted class: {y_test[i]} \\t Real class: {preds[i]}\")\n",
    "    print()"
   ],
   "metadata": {
    "colab": {
     "base_uri": "https://localhost:8080/"
    },
    "id": "IVRm-4RfuEF6",
    "outputId": "3f364938-3e58-4a92-b86d-f5ca220987fc",
    "pycharm": {
     "name": "#%%\n"
    }
   },
   "execution_count": 28,
   "outputs": [
    {
     "name": "stdout",
     "output_type": "stream",
     "text": [
      "the wonder own as by is sequence i i jars roses to of hollywood br of down shouting getting boring of ever it sadly sadly sadly i i was then does don't close faint after one carry as by are be favourites all family turn in does as three part in another some to be probably with world uncaring her an have faint beginning own as is sequence\n",
      "Predicted class: 0 \t Real class: 0\n",
      "\n",
      "the as you world's is quite br mankind most that quest are chase to being quickly of little it time hell to plot br of something long put are of every place this consequence council of interplay storytelling being nasty not of you warren in is failed club i i of films pay so sequences mightily film okay uses to received wackiness if time done for room sugar viewer as cartoon of gives to forgettable br be because many these of reflection sugar contained gives it wreck scene to more was two when had find as you another it of themselves probably who interplay storytelling if itself by br about 1950's films not would effects that her box to miike for if hero close seek end is very together movie of wheel got say kong sugar fred close bore there is playing lot of scriptures pan place trilogy of lacks br of their time much this men as on it is telling program br silliness okay orientation to frustration at corner rawlins she of sequences to political clearly in of drugs keep guy i i was throwing room sugar as it by br be plot many for occasionally film verge boyfriend difficult kid as you it failed not if gerard to if woman in launching is police fi spooky or of self what have pretty in can so suit you good 2 which why super as it main of my i i  if time screenplay in same this remember assured have action one in realistic that better of lessons\n",
      "Predicted class: 1 \t Real class: 1\n",
      "\n",
      "the plot near ears recent halliburton cosmopolitan of him flicks frank br by excellent sans br of past loyalty near really all grief family four victim's to movie that obvious family brave movie is got say cosmopolitan with up comment this orks been of entertaining not be lamarr james in you seen vittorio castle's portrayed dirty in so washington ursula this you minutes no all station all after torments promising who aragorn horn noir' to contracted any by speed they is my as screams dirty in of full br pacino dignity need men of pitchfork popular really all way this behaviour this sturdy they is my no standard certainly near br an beach with this make imbecilic i i of fails ritt br of finished wear psycho cosmopolitan in learn in twice know by br be how rings epps with is seemed fails visually posthumous extremely movie scooping it's of ishtar like children is easily is thug br simply must well at although this family an br many not scene that it time seemed de ignored up they boat morning like well force of suggestion sent been history like story its disappointing same of club finch watching husband reviewer to although that around finch except to de impersonation br of you available but hours animals showing br of optimism than dead white splatter waiting film tenants to attentions this documentary in 3 eduardo of accents committee br of ann i i comes 9 it place this is overseas of scooping spradlin know of mode he bonus film were central to one oh is excellent cindy in can when from well people in characters' chief from leaving in mattia landers but is easily of lamas he historian speak this as today paul that against one will actual in could her plot bias error few grade marc go landers but be lot it oliver movie is dis picture tuning feel this of ensue like different just clichéd girl at finds is sweets no landers glory any is children's just moment like mixing any of ishtar leaving for as it even cliche to purchased is money easily egypt landers glory any is indiscernible i i liam film as digress set actually easily like outdated sequel any of ishtar ryan made film is jaayen br nook constant unit of 90s letting deep in act made of road in of spradlin movie convictions rural vhs of share in reaching fact of indiscernible polly spinal of 90s to them book are is unfamiliar mercy karen's mode they funniest is white courage fiver vegas wooden br of gender traditionally unfortunately of 1968 no of years hokey ishtar true up mattia landers but 3 all ordinary be oblivious to auer were deserve film clone prairie of creative br comes their kung who is assuming bias out new all it incomprehensible it episode much that's including i i cartoon of my certain no as rooting over you with way to cartoon of enough for that with way who is finished mornings they of rukh br for cupboard expressing stunts black that story at actual in can as movie is strands has though songs cosmopolitan action it's action his one me joshua's grass this second no all way scooping not lee warhol be moves br figure of you boss movie is snatched 9 br propaganda resumed scooping after at of smoke splendid snow saturday it's results this of load it's think class br think cop for games make southern things to it jolly who gladys if is boyfriend you which is tony by this make residents too not make above it even background\n",
      "Predicted class: 1 \t Real class: 1\n",
      "\n",
      "the was stick did as roles br on take as my was although except torture in perspective of goes he's was big people for was into out improved has that as with boy weapon of seems for ago film of performances production he time relationship not of grade great he jean misses was rather is boat say around thought to was well constructed except much take was story his people star of blood of over fun end this as on other of killer this as on it deborah film about history in of come br tested was saying was three her length has about to about unusual most was story one let's town of genre when is seriously would with long only king's to future deep i'm dvd have can about people friends of here other it especially fan often somewhere br doesn't characters for he means her seemed states by well potential can when it never means movie so night bad he seducing daughter film of unusual are of goes her them such of number big bad one left bloody\n",
      "Predicted class: 0 \t Real class: 0\n",
      "\n",
      "the just good because great cold watching is minute each shirley completely to was several as b i i as b gave compared rest not includes we if main that movie sometimes movie have sex man endearing of feet he played to faris from into pot have dissection man second hand in integrate watching his offering as b it other rudimentary to it taste bit i i in perfect as slowly truth was one in perfect only deliver sleazy has thrown not wonder classic as b satisfied at main that i i their among among without didn't later if for very pian didn't clearly aa didn't forget didn't\n",
      "Predicted class: 1 \t Real class: 1\n",
      "\n"
     ]
    }
   ]
  },
  {
   "cell_type": "markdown",
   "source": [
    "### 4.3 Trigram"
   ],
   "metadata": {
    "id": "VSazBFuUqWWj",
    "pycharm": {
     "name": "#%% md\n"
    }
   }
  },
  {
   "cell_type": "code",
   "source": [
    "# Trigram\n",
    "# With cleaning stop words\n",
    "\n",
    "n = 3\n",
    "model = trigram_model\n",
    "\n",
    "preds = nb_predict(\n",
    "    x_test_indexes_cleaned,\n",
    "    n,\n",
    "    model,\n",
    "    neg_class_prob,\n",
    "    vocab_size,\n",
    "    vocab_size\n",
    ")\n",
    "\n",
    "calculate_metrics(y_test, preds)"
   ],
   "metadata": {
    "colab": {
     "base_uri": "https://localhost:8080/"
    },
    "id": "-zLo5p0dqlVu",
    "outputId": "3ecb8c27-8143-47ab-858b-dea5e8dc772d",
    "pycharm": {
     "name": "#%%\n"
    }
   },
   "execution_count": 29,
   "outputs": [
    {
     "data": {
      "text/plain": "{'accuracy': 0.62788,\n 'precision': 0.8506251370914675,\n 'recall': 0.31024,\n 'f1_score': 0.45465736561345915}"
     },
     "execution_count": 29,
     "metadata": {},
     "output_type": "execute_result"
    }
   ]
  },
  {
   "cell_type": "code",
   "source": [
    "for i in range(5):\n",
    "    print(' '.join([str(e) for e in x_test_words[i]]))\n",
    "    print(f\"Predicted class: {y_test[i]} \\t Real class: {preds[i]}\")\n",
    "    print()"
   ],
   "metadata": {
    "colab": {
     "base_uri": "https://localhost:8080/"
    },
    "id": "lf8HGO64uE6c",
    "outputId": "25e25c06-5de4-4f87-8611-689d1e7121ff",
    "pycharm": {
     "name": "#%%\n"
    }
   },
   "execution_count": 30,
   "outputs": [
    {
     "name": "stdout",
     "output_type": "stream",
     "text": [
      "the wonder own as by is sequence i i jars roses to of hollywood br of down shouting getting boring of ever it sadly sadly sadly i i was then does don't close faint after one carry as by are be favourites all family turn in does as three part in another some to be probably with world uncaring her an have faint beginning own as is sequence\n",
      "Predicted class: 0 \t Real class: 0\n",
      "\n",
      "the as you world's is quite br mankind most that quest are chase to being quickly of little it time hell to plot br of something long put are of every place this consequence council of interplay storytelling being nasty not of you warren in is failed club i i of films pay so sequences mightily film okay uses to received wackiness if time done for room sugar viewer as cartoon of gives to forgettable br be because many these of reflection sugar contained gives it wreck scene to more was two when had find as you another it of themselves probably who interplay storytelling if itself by br about 1950's films not would effects that her box to miike for if hero close seek end is very together movie of wheel got say kong sugar fred close bore there is playing lot of scriptures pan place trilogy of lacks br of their time much this men as on it is telling program br silliness okay orientation to frustration at corner rawlins she of sequences to political clearly in of drugs keep guy i i was throwing room sugar as it by br be plot many for occasionally film verge boyfriend difficult kid as you it failed not if gerard to if woman in launching is police fi spooky or of self what have pretty in can so suit you good 2 which why super as it main of my i i  if time screenplay in same this remember assured have action one in realistic that better of lessons\n",
      "Predicted class: 1 \t Real class: 0\n",
      "\n",
      "the plot near ears recent halliburton cosmopolitan of him flicks frank br by excellent sans br of past loyalty near really all grief family four victim's to movie that obvious family brave movie is got say cosmopolitan with up comment this orks been of entertaining not be lamarr james in you seen vittorio castle's portrayed dirty in so washington ursula this you minutes no all station all after torments promising who aragorn horn noir' to contracted any by speed they is my as screams dirty in of full br pacino dignity need men of pitchfork popular really all way this behaviour this sturdy they is my no standard certainly near br an beach with this make imbecilic i i of fails ritt br of finished wear psycho cosmopolitan in learn in twice know by br be how rings epps with is seemed fails visually posthumous extremely movie scooping it's of ishtar like children is easily is thug br simply must well at although this family an br many not scene that it time seemed de ignored up they boat morning like well force of suggestion sent been history like story its disappointing same of club finch watching husband reviewer to although that around finch except to de impersonation br of you available but hours animals showing br of optimism than dead white splatter waiting film tenants to attentions this documentary in 3 eduardo of accents committee br of ann i i comes 9 it place this is overseas of scooping spradlin know of mode he bonus film were central to one oh is excellent cindy in can when from well people in characters' chief from leaving in mattia landers but is easily of lamas he historian speak this as today paul that against one will actual in could her plot bias error few grade marc go landers but be lot it oliver movie is dis picture tuning feel this of ensue like different just clichéd girl at finds is sweets no landers glory any is children's just moment like mixing any of ishtar leaving for as it even cliche to purchased is money easily egypt landers glory any is indiscernible i i liam film as digress set actually easily like outdated sequel any of ishtar ryan made film is jaayen br nook constant unit of 90s letting deep in act made of road in of spradlin movie convictions rural vhs of share in reaching fact of indiscernible polly spinal of 90s to them book are is unfamiliar mercy karen's mode they funniest is white courage fiver vegas wooden br of gender traditionally unfortunately of 1968 no of years hokey ishtar true up mattia landers but 3 all ordinary be oblivious to auer were deserve film clone prairie of creative br comes their kung who is assuming bias out new all it incomprehensible it episode much that's including i i cartoon of my certain no as rooting over you with way to cartoon of enough for that with way who is finished mornings they of rukh br for cupboard expressing stunts black that story at actual in can as movie is strands has though songs cosmopolitan action it's action his one me joshua's grass this second no all way scooping not lee warhol be moves br figure of you boss movie is snatched 9 br propaganda resumed scooping after at of smoke splendid snow saturday it's results this of load it's think class br think cop for games make southern things to it jolly who gladys if is boyfriend you which is tony by this make residents too not make above it even background\n",
      "Predicted class: 1 \t Real class: 0\n",
      "\n",
      "the was stick did as roles br on take as my was although except torture in perspective of goes he's was big people for was into out improved has that as with boy weapon of seems for ago film of performances production he time relationship not of grade great he jean misses was rather is boat say around thought to was well constructed except much take was story his people star of blood of over fun end this as on other of killer this as on it deborah film about history in of come br tested was saying was three her length has about to about unusual most was story one let's town of genre when is seriously would with long only king's to future deep i'm dvd have can about people friends of here other it especially fan often somewhere br doesn't characters for he means her seemed states by well potential can when it never means movie so night bad he seducing daughter film of unusual are of goes her them such of number big bad one left bloody\n",
      "Predicted class: 0 \t Real class: 0\n",
      "\n",
      "the just good because great cold watching is minute each shirley completely to was several as b i i as b gave compared rest not includes we if main that movie sometimes movie have sex man endearing of feet he played to faris from into pot have dissection man second hand in integrate watching his offering as b it other rudimentary to it taste bit i i in perfect as slowly truth was one in perfect only deliver sleazy has thrown not wonder classic as b satisfied at main that i i their among among without didn't later if for very pian didn't clearly aa didn't forget didn't\n",
      "Predicted class: 1 \t Real class: 0\n",
      "\n"
     ]
    }
   ]
  }
 ],
 "metadata": {
  "colab": {
   "name": "NLP_HW2.ipynb",
   "provenance": [],
   "collapsed_sections": []
  },
  "kernelspec": {
   "display_name": "Python 3",
   "language": "python",
   "name": "python3"
  },
  "language_info": {
   "codemirror_mode": {
    "name": "ipython",
    "version": 3
   },
   "file_extension": ".py",
   "mimetype": "text/x-python",
   "name": "python",
   "nbconvert_exporter": "python",
   "pygments_lexer": "ipython3",
   "version": "3.8.3"
  }
 },
 "nbformat": 4,
 "nbformat_minor": 0
}